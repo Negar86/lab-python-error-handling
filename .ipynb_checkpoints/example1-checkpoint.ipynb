{
 "cells": [
  {
   "cell_type": "code",
   "execution_count": 1,
   "id": "26be0846",
   "metadata": {},
   "outputs": [],
   "source": [
    "def initialize_inventory(products: list):\n",
    "    '''\n",
    "    takes products as a parameter for initializing the inventory\n",
    "    returns inventory\n",
    "    \n",
    "    '''\n",
    "    inventory = {}\n",
    "    for element in products:\n",
    "        while True:\n",
    "            try:\n",
    "            \n",
    "                Values = (input(f'please enter the quantity of {element} '))\n",
    "                if Values.isdigit():\n",
    "                    inventory[element] = int(Values)\n",
    "                elif int(Values) < 0:\n",
    "                    raise ValueError (\"Invalid quantity! Please enter a non-negative value.\")                   \n",
    "                break\n",
    "            except ValueError as error:\n",
    "                print (f' {error} occured')\n",
    "                                \n",
    "    return inventory"
   ]
  },
  {
   "cell_type": "code",
   "execution_count": 2,
   "id": "9254854c",
   "metadata": {},
   "outputs": [
    {
     "name": "stdout",
     "output_type": "stream",
     "text": [
      "please enter the quantity of t-shirt 10\n",
      "please enter the quantity of mug 20\n",
      "please enter the quantity of hat 30\n",
      "please enter the quantity of book 40\n",
      "please enter the quantity of keychain 50\n"
     ]
    },
    {
     "data": {
      "text/plain": [
       "{'t-shirt': 10, 'mug': 20, 'hat': 30, 'book': 40, 'keychain': 50}"
      ]
     },
     "execution_count": 2,
     "metadata": {},
     "output_type": "execute_result"
    }
   ],
   "source": [
    "initialize_inventory([\"t-shirt\", \"mug\", \"hat\", \"book\", \"keychain\"])"
   ]
  },
  {
   "cell_type": "code",
   "execution_count": 3,
   "id": "0e677c83",
   "metadata": {},
   "outputs": [],
   "source": [
    "def get_customer_orders(inventory):\n",
    "    '''\n",
    "    Getting the order.\n",
    "    '''\n",
    "    while True:\n",
    "        try:\n",
    "            number_of_orders = input('Please enter the number of orders: ')\n",
    "            if not number_of_orders.isdigit() or int(number_of_orders) <= 0:\n",
    "                raise ValueError('Please enter a positive number.')\n",
    "            else:\n",
    "                number_of_orders = int(number_of_orders)\n",
    "                print(f'You would like to order {number_of_orders} items.')\n",
    "                break\n",
    "        except ValueError as er:\n",
    "            print(f'{er} occured, please enter a number')\n",
    "\n",
    "    customer_orders = set()\n",
    "\n",
    "    for i in range(number_of_orders):\n",
    "        while True:\n",
    "            try:\n",
    "                request = input(f'Please enter the name of a product from the following {list(inventory.keys())}: ').strip().lower()\n",
    "                if request not in inventory or inventory[request] <= 0:\n",
    "                    raise ValueError('Invalid product name or out of stock.')\n",
    "                else:\n",
    "                    customer_orders.add(request)\n",
    "                    break\n",
    "            except ValueError as er:\n",
    "                print(f'{er} occured, please enter the name of the product')\n",
    "\n",
    "    print('Thank you for shopping.')\n",
    "    return customer_orders"
   ]
  },
  {
   "cell_type": "code",
   "execution_count": 4,
   "id": "3da41b60",
   "metadata": {},
   "outputs": [
    {
     "name": "stdout",
     "output_type": "stream",
     "text": [
      "Please enter the number of orders: 2\n",
      "You would like to order 2 items.\n",
      "Please enter the name of a product from the following ['t-shirt', 'mug', 'hat', 'book', 'keychain']: mug\n",
      "Please enter the name of a product from the following ['t-shirt', 'mug', 'hat', 'book', 'keychain']: boook\n",
      "Invalid product name or out of stock. occured, please enter the name of the product\n",
      "Please enter the name of a product from the following ['t-shirt', 'mug', 'hat', 'book', 'keychain']: book\n",
      "Thank you for shopping.\n"
     ]
    },
    {
     "data": {
      "text/plain": [
       "{'book', 'mug'}"
      ]
     },
     "execution_count": 4,
     "metadata": {},
     "output_type": "execute_result"
    }
   ],
   "source": [
    "get_customer_orders({'t-shirt': 5, 'mug': 6, 'hat': 8, 'book': 9, 'keychain': 10})"
   ]
  },
  {
   "cell_type": "code",
   "execution_count": 5,
   "id": "5f7266d3",
   "metadata": {},
   "outputs": [],
   "source": [
    "def update_inventory(customer_orders, inventory):\n",
    "    for order in customer_orders:\n",
    "            inventory[order] -= 1\n",
    "            \n",
    "    inventory = {(key,value) for key,value in inventory.items() if inventory[order] !=0}\n",
    "                \n",
    "    return inventory"
   ]
  },
  {
   "cell_type": "code",
   "execution_count": 6,
   "id": "776a373c",
   "metadata": {},
   "outputs": [
    {
     "name": "stdout",
     "output_type": "stream",
     "text": [
      "total_unique_products: 3, percentage_unique_products: 60.0\n"
     ]
    }
   ],
   "source": [
    "def calculate_order_statistics(customer_orders, products):\n",
    "    total_unique_products = len(customer_orders)\n",
    "    percentage_unique_products = (total_unique_products / len(products)) * 100\n",
    "    return  total_unique_products, percentage_unique_products\n",
    "\n",
    "calculate_order_statistics({'book', 'hat', 'mug', 't-shirt'},[\"t-shirt\", \"mug\", \"hat\", \"book\", \"keychain\"])\n",
    "\n",
    "def print_order_statistics (order_statistics):\n",
    "    print (f'total_unique_products: {order_statistics[0]}, percentage_unique_products: {order_statistics[1]}')\n",
    "\n",
    "def print_updated_inventory(inventory):\n",
    "    print(f'the updated inventory is {inventory}')\n",
    "    \n",
    "print_order_statistics((3, 60.0))"
   ]
  },
  {
   "cell_type": "code",
   "execution_count": 7,
   "id": "8e3279c2",
   "metadata": {},
   "outputs": [
    {
     "name": "stdout",
     "output_type": "stream",
     "text": [
      "{('mug', 6), ('hat', 7), ('keychain', 10), ('t-shirt', 5), ('book', 8)}\n"
     ]
    }
   ],
   "source": [
    "updated_inventory = update_inventory({'book', 'hat', 'mug', 't-shirt'},{'t-shirt': 6, 'mug': 7, 'hat': 8, 'book': 9, 'keychain': 10})\n",
    "print(updated_inventory)"
   ]
  },
  {
   "cell_type": "code",
   "execution_count": 8,
   "id": "70881446",
   "metadata": {},
   "outputs": [],
   "source": [
    "def Total_price(products):\n",
    "    while True:\n",
    "        try:\n",
    "            prices = []\n",
    "            for product in products:\n",
    "                price = float(input(f'Please enter the price of the product \"{product}\": '))\n",
    "                if price <= 0:\n",
    "                    raise ValueError('Please enter a positive price.')\n",
    "                prices.append(price)\n",
    "            total = sum(prices)\n",
    "            print(f'Total Price: {total}')\n",
    "            break  # Exit the loop if all inputs are valid\n",
    "        except ValueError as e:\n",
    "            print(f'Error: {e}')\n",
    "            print('Please try again.')\n",
    "            "
   ]
  },
  {
   "cell_type": "code",
   "execution_count": 9,
   "id": "89e8ae75",
   "metadata": {},
   "outputs": [
    {
     "name": "stdout",
     "output_type": "stream",
     "text": [
      "Please enter the price of the product \"book\": 12.5\n",
      "Please enter the price of the product \"mug\": 18\n",
      "Please enter the price of the product \"t-shirt\": 20\n",
      "Please enter the price of the product \"hat\": 22\n",
      "Total Price: 72.5\n"
     ]
    }
   ],
   "source": [
    "Total_price({'book', 'hat', 'mug', 't-shirt'})"
   ]
  },
  {
   "cell_type": "code",
   "execution_count": null,
   "id": "e2c3944f",
   "metadata": {},
   "outputs": [],
   "source": []
  }
 ],
 "metadata": {
  "kernelspec": {
   "display_name": "Python 3 (ipykernel)",
   "language": "python",
   "name": "python3"
  },
  "language_info": {
   "codemirror_mode": {
    "name": "ipython",
    "version": 3
   },
   "file_extension": ".py",
   "mimetype": "text/x-python",
   "name": "python",
   "nbconvert_exporter": "python",
   "pygments_lexer": "ipython3",
   "version": "3.11.5"
  }
 },
 "nbformat": 4,
 "nbformat_minor": 5
}
