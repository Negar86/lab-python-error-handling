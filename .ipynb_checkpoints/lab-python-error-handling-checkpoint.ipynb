{
 "cells": [
  {
   "cell_type": "markdown",
   "id": "25d7736c-ba17-4aff-b6bb-66eba20fbf4e",
   "metadata": {},
   "source": [
    "# Lab | Error Handling"
   ]
  },
  {
   "cell_type": "markdown",
   "id": "bc99b386-7508-47a0-bcdb-d969deaf6c8b",
   "metadata": {},
   "source": [
    "## Exercise: Error Handling for Managing Customer Orders\n",
    "\n",
    "The implementation of your code for managing customer orders assumes that the user will always enter a valid input. \n",
    "\n",
    "For example, we could modify the `initialize_inventory` function to include error handling.\n",
    "   - If the user enters an invalid quantity (e.g., a negative value or a non-numeric value), display an error message and ask them to re-enter the quantity for that product.\n",
    "   - Use a try-except block to handle the error and continue prompting the user until a valid quantity is entered.\n",
    "\n",
    "```python\n",
    "# Step 1: Define the function for initializing the inventory with error handling\n",
    "def initialize_inventory(products):\n",
    "    inventory = {}\n",
    "    for product in products:\n",
    "        valid_quantity = False\n",
    "        while not valid_quantity:\n",
    "            try:\n",
    "                quantity = int(input(f\"Enter the quantity of {product}s available: \"))\n",
    "                if quantity < 0:\n",
    "                    raise ValueError(\"Invalid quantity! Please enter a non-negative value.\")\n",
    "                valid_quantity = True\n",
    "            except ValueError as error:\n",
    "                print(f\"Error: {error}\")\n",
    "        inventory[product] = quantity\n",
    "    return inventory\n",
    "\n",
    "# Or, in another way:\n",
    "\n",
    "def initialize_inventory(products):\n",
    "    inventory = {}\n",
    "    for product in products:\n",
    "        valid_input = False\n",
    "        while not valid_input:\n",
    "            try:\n",
    "                quantity = int(input(f\"Enter the quantity of {product}s available: \"))\n",
    "                if quantity >= 0:\n",
    "                    inventory[product] = quantity\n",
    "                    valid_input = True\n",
    "                else:\n",
    "                    print(\"Quantity cannot be negative. Please enter a valid quantity.\")\n",
    "            except ValueError:\n",
    "                print(\"Invalid input. Please enter a valid quantity.\")\n",
    "    return inventory\n",
    "```\n",
    "\n",
    "Let's enhance your code by implementing error handling to handle invalid inputs.\n",
    "\n",
    "Follow the steps below to complete the exercise:\n",
    "\n",
    "2. Modify the `calculate_total_price` function to include error handling.\n",
    "   - If the user enters an invalid price (e.g., a negative value or a non-numeric value), display an error message and ask them to re-enter the price for that product.\n",
    "   - Use a try-except block to handle the error and continue prompting the user until a valid price is entered.\n",
    "\n",
    "3. Modify the `get_customer_orders` function to include error handling.\n",
    "   - If the user enters an invalid number of orders (e.g., a negative value or a non-numeric value), display an error message and ask them to re-enter the number of orders.\n",
    "   - If the user enters an invalid product name (e.g., a product name that is not in the inventory), or that doesn't have stock available, display an error message and ask them to re-enter the product name. *Hint: you will need to pass inventory as a parameter*\n",
    "   - Use a try-except block to handle the error and continue prompting the user until a valid product name is entered.\n",
    "\n",
    "4. Test your code by running the program and deliberately entering invalid quantities and product names. Make sure the error handling mechanism works as expected.\n"
   ]
  },
  {
   "cell_type": "code",
   "execution_count": 1,
   "id": "d92d7900",
   "metadata": {},
   "outputs": [],
   "source": [
    "def initialize_inventory(products):\n",
    "    inventory = {}\n",
    "    \n",
    "    for product in products:\n",
    "        valid_quantity = False\n",
    "        while not valid_quantity:\n",
    "            try:        \n",
    "                quantity = int((input(f'Please enter the quantity of {product}: ')))\n",
    "                if quantity >= 0:\n",
    "                    inventory[product] = quantity\n",
    "                    valid_quantity = True\n",
    "                else: \n",
    "                    print(\"Enter a positive number.\")\n",
    "                    \n",
    "            except ValueError:\n",
    "                print (\"Enter a number.\")\n",
    "                                \n",
    "    return inventory"
   ]
  },
  {
   "cell_type": "code",
   "execution_count": 2,
   "id": "5c05df0f",
   "metadata": {
    "scrolled": false
   },
   "outputs": [
    {
     "name": "stdout",
     "output_type": "stream",
     "text": [
      "Please enter the quantity of t-shirt: -10\n",
      "Enter a positive number.\n",
      "Please enter the quantity of t-shirt: 10\n",
      "Please enter the quantity of mug: zero\n",
      "Enter a number.\n",
      "Please enter the quantity of mug: 0\n",
      "Please enter the quantity of hat: 20\n",
      "Please enter the quantity of book: 30\n",
      "Please enter the quantity of keychain: 40\n"
     ]
    }
   ],
   "source": [
    "products = (\"t-shirt\", \"mug\", \"hat\", \"book\", \"keychain\")\n",
    "inventory = initialize_inventory(products)"
   ]
  },
  {
   "cell_type": "code",
   "execution_count": 3,
   "id": "62f54db5",
   "metadata": {},
   "outputs": [
    {
     "name": "stdout",
     "output_type": "stream",
     "text": [
      "Enter the price of t-shirt: -50\n",
      "Enter a positive number.\n",
      "Enter the price of t-shirt: 50\n",
      "Enter the price of mug: ten\n",
      "Enter a number.\n",
      "Enter the price of mug: 10\n",
      "Enter the price of hat: 15.5\n",
      "Enter the price of book: 35\n",
      "Enter the price of keychain: 20\n",
      "{'t-shirt': 50.0, 'mug': 10.0, 'hat': 15.5, 'book': 35.0, 'keychain': 20.0}\n"
     ]
    }
   ],
   "source": [
    "def total_price_of_customer_order(products):\n",
    "    total_price_of_customer_order = {}\n",
    "    \n",
    "    for product in products:\n",
    "        valid_price = False  \n",
    "        while not valid_price:  \n",
    "            try:\n",
    "                price = float(input(f\"Enter the price of {product}: \"))          \n",
    "                if price >= 0:\n",
    "                    total_price_of_customer_order[product] = price\n",
    "                    valid_price = True                   \n",
    "                else:\n",
    "                    print(\"Enter a positive number.\")\n",
    "        \n",
    "            except ValueError:\n",
    "                print(\"Enter a number.\")            \n",
    "    \n",
    "    return total_price_of_customer_order\n",
    "\n",
    "total_price_of_customer_order = total_price_of_customer_order(products)\n",
    "\n",
    "print(total_price_of_customer_order)"
   ]
  },
  {
   "cell_type": "code",
   "execution_count": 4,
   "id": "19b01f93",
   "metadata": {},
   "outputs": [
    {
     "name": "stdout",
     "output_type": "stream",
     "text": [
      "How many items would you like to order? -2\n",
      "Number of orders should be positive.\n",
      "How many items would you like to order? two\n",
      "Please enter a number.\n",
      "How many items would you like to order? 2\n",
      "Enter the product name for order: notebook\n",
      " notebook is not in inventory or is out of stock.\n",
      "Enter the product name for order: book\n",
      "Enter the product name for order: mug\n",
      " mug is not in inventory or is out of stock.\n",
      "Enter the product name for order: hat\n",
      "Your order has been placed successfully: {'hat', 'book'}\n"
     ]
    }
   ],
   "source": [
    "def get_customer_orders(inventory):\n",
    "    \n",
    "    customer_orders = set()\n",
    "    \n",
    "    valid_order_num = False\n",
    "    while not valid_order_num:\n",
    "        try:\n",
    "            order_num = int(input(\"How many items would you like to order? \"))\n",
    "            if order_num >0:\n",
    "                valid_order_num = True\n",
    "            else:\n",
    "                print(\"Number of orders should be positive.\")\n",
    "        except ValueError:\n",
    "            print(\"Please enter a number.\")\n",
    "    \n",
    "    valid_order = False\n",
    "    while not valid_order:\n",
    "        try:  \n",
    "            while len(customer_orders) < order_num:\n",
    "                order = input(\"Enter the product name for order: \")\n",
    "                if order in inventory and inventory[order] > 0:\n",
    "                    customer_orders.add(order)\n",
    "                    valid_order = True\n",
    "                else:\n",
    "                    print(f\" {order} is not in inventory or is out of stock.\")\n",
    "                               \n",
    "        except:\n",
    "            print(\"Invalid input. Please try again.\")\n",
    "        return customer_orders\n",
    "\n",
    "customer_orders = get_customer_orders(inventory)\n",
    "\n",
    "print(f\"Your order has been placed successfully: {customer_orders}\")"
   ]
  },
  {
   "cell_type": "code",
   "execution_count": null,
   "id": "78b8cf30",
   "metadata": {},
   "outputs": [],
   "source": []
  }
 ],
 "metadata": {
  "kernelspec": {
   "display_name": "Python 3 (ipykernel)",
   "language": "python",
   "name": "python3"
  },
  "language_info": {
   "codemirror_mode": {
    "name": "ipython",
    "version": 3
   },
   "file_extension": ".py",
   "mimetype": "text/x-python",
   "name": "python",
   "nbconvert_exporter": "python",
   "pygments_lexer": "ipython3",
   "version": "3.11.5"
  }
 },
 "nbformat": 4,
 "nbformat_minor": 5
}
